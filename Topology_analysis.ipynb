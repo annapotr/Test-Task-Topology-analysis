{
 "cells": [
  {
   "cell_type": "code",
   "execution_count": 12,
   "id": "fd42ac4e",
   "metadata": {},
   "outputs": [],
   "source": [
    "from python_graphs import control_flow\n",
    "from python_graphs import control_flow_graphviz\n",
    "from python_graphs import program_utils\n",
    "import inspect\n",
    "import imp\n",
    "from IPython.display import Image, display\n",
    "from ipywidgets import interact"
   ]
  },
  {
   "cell_type": "code",
   "execution_count": 13,
   "id": "7b73fd42",
   "metadata": {},
   "outputs": [],
   "source": [
    "def plot_control_flow_graph(fn, path):\n",
    "  graph = control_flow.get_control_flow_graph(fn)\n",
    "  source = program_utils.getsource(fn)\n",
    "  control_flow_graphviz.render(graph, include_src=source, path=path)"
   ]
  },
  {
   "cell_type": "code",
   "execution_count": 14,
   "id": "8e63b1c5",
   "metadata": {},
   "outputs": [
    {
     "data": {
      "application/vnd.jupyter.widget-view+json": {
       "model_id": "9b6c19f35e5b413b8517e2e390a7df10",
       "version_major": 2,
       "version_minor": 0
      },
      "text/plain": [
       "interactive(children=(Text(value='control_flow_test_components.py', description='filename'), Output()), _dom_c…"
      ]
     },
     "metadata": {},
     "output_type": "display_data"
    }
   ],
   "source": [
    "@interact(filename='control_flow_test_components.py')\n",
    "def run(filename):\n",
    "    module = imp.load_source(\"__inspected__\", filename)\n",
    "    files = []\n",
    "\n",
    "    for name, fn in inspect.getmembers(module, predicate=inspect.isfunction):\n",
    "        path = f'out/{name}_cfg.png'\n",
    "        files.append(path)\n",
    "        plot_control_flow_graph(fn, path)\n",
    "\n",
    "    for imageName in files:\n",
    "        display(Image(filename=imageName))"
   ]
  },
  {
   "cell_type": "markdown",
   "id": "dcece854",
   "metadata": {},
   "source": [
    "Edges:\n",
    "* Dotted - raise exception\n",
    "* Solid - others\n",
    "\n",
    "Nodes:\n",
    "* Thick - the beginning and end of the function\n",
    "    * raise\n",
    "    * return\n",
    "    * exit \n",
    "    * start\n",
    "    * entry:{name_function}\n",
    "* Thin - others\n",
    "    * Exception\n",
    "    * range(n)\n",
    "    * (a < b) - condition\n",
    "    * i <- iter\n",
    "    * other code"
   ]
  },
  {
   "cell_type": "code",
   "execution_count": null,
   "id": "6ff9d507",
   "metadata": {},
   "outputs": [],
   "source": []
  }
 ],
 "metadata": {
  "kernelspec": {
   "display_name": "Python 3",
   "language": "python",
   "name": "python3"
  },
  "language_info": {
   "codemirror_mode": {
    "name": "ipython",
    "version": 3
   },
   "file_extension": ".py",
   "mimetype": "text/x-python",
   "name": "python",
   "nbconvert_exporter": "python",
   "pygments_lexer": "ipython3",
   "version": "3.8.8"
  }
 },
 "nbformat": 4,
 "nbformat_minor": 5
}
